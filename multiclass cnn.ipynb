{
 "cells": [
  {
   "cell_type": "code",
   "execution_count": 46,
   "id": "e8f328db",
   "metadata": {},
   "outputs": [],
   "source": [
    "import numpy as np\n",
    "from sklearn import svm\n",
    "from sklearn.metrics import classification_report,accuracy_score\n",
    "from sklearn.model_selection import train_test_split\n",
    "import pandas as pd\n",
    "import os\n",
    "from skimage.io import imread, imshow\n",
    "\n",
    "# keras imports for building the neural network\n",
    "import keras\n",
    "from keras.preprocessing.image import ImageDataGenerator\n",
    "from keras.models import Sequential\n",
    "from keras.layers import Conv2D, MaxPooling2D, Flatten, Dense, InputLayer, BatchNormalization, Dropout\n",
    "from keras.layers import Dense, Dropout, Conv1D, MaxPool1D, Flatten\n",
    "from keras.optimizers import Adam\n",
    "from tensorflow.keras.utils import to_categorical\n",
    "from keras.utils import np_utils\n",
    "import tensorflow as tf"
   ]
  },
  {
   "cell_type": "code",
   "execution_count": 47,
   "id": "1b5e498f",
   "metadata": {},
   "outputs": [],
   "source": [
    "# Path to all images\n",
    "basedir = './dataset'\n",
    "images_dir = os.path.join(basedir,'image')\n",
    "labels_filename = 'label.csv'\n",
    "image_paths = [os.path.join(images_dir, l) for l in os.listdir(images_dir)]\n",
    "target_size = None\n",
    "labels_file = open(os.path.join(basedir, labels_filename), 'r')\n",
    "lines = labels_file.readlines()\n",
    "tumor_labels = {line.split(',')[0] : (line.split(',')[1]) for line in lines[1:]}\n",
    "\n",
    "\n",
    "for i in tumor_labels:\n",
    "    tumor_labels[i] = tumor_labels[i].replace('\\n', '')\n",
    "    if tumor_labels[i] == \"no_tumor\":\n",
    "        tumor_labels[i] = 0\n",
    "    elif tumor_labels[i] == \"meningioma_tumor\":\n",
    "        tumor_labels[i] = 1\n",
    "    elif tumor_labels[i] == \"glioma_tumor\":\n",
    "        tumor_labels[i] = 2\n",
    "    elif tumor_labels[i] == \"pituitary_tumor\":\n",
    "        tumor_labels[i] = 3\n",
    "        \n",
    "\n",
    "        \n",
    "def extract_features_labels():\n",
    "    if os.path.isdir(images_dir):\n",
    "        all_features = []\n",
    "        all_labels = []\n",
    "        for img_path in image_paths:\n",
    "            file_name = img_path.split('\\\\')[-1]\n",
    "\n",
    "            # load image\n",
    "            img = imread(img_path, as_gray = True)\n",
    "            features = np.reshape(img, (512,512,1))\n",
    "            features.shape, features\n",
    "            \n",
    "            if features is not None:\n",
    "                all_features.append(features)\n",
    "                all_labels.append(tumor_labels[file_name])\n",
    "\n",
    "    np_features = np.array(all_features)\n",
    "    np_labels = np.array(all_labels) \n",
    "    return np_features, np_labels\n",
    "\n"
   ]
  },
  {
   "cell_type": "code",
   "execution_count": 11,
   "id": "fb2a53d6",
   "metadata": {},
   "outputs": [],
   "source": [
    "# Path to all images\n",
    "basedir = './dataset'\n",
    "images_dir = os.path.join(basedir,'image')\n",
    "labels_filename = 'label.csv'\n",
    "image_paths = [os.path.join(images_dir, l) for l in os.listdir(images_dir)]\n",
    "target_size = None\n",
    "labels_file = open(os.path.join(basedir, labels_filename), 'r')\n",
    "lines = labels_file.readlines()\n",
    "tumor_labels = {line.split(',')[0] : (line.split(',')[1]) for line in lines[1:]}\n",
    "\n",
    "\n",
    "for i in tumor_labels:\n",
    "    tumor_labels[i] = tumor_labels[i].replace('\\n', '')\n",
    "    if tumor_labels[i] == \"no_tumor\":\n",
    "        tumor_labels[i] = [1, 0, 0, 0]\n",
    "    elif tumor_labels[i] == \"meningioma_tumor\":\n",
    "        tumor_labels[i] = [0, 0, 0, 1]\n",
    "    elif tumor_labels[i] == \"glioma_tumor\":\n",
    "        tumor_labels[i] = [0, 0, 1, 0]\n",
    "    elif tumor_labels[i] == \"pituitary_tumor\":\n",
    "        tumor_labels[i] = [0, 1, 0, 0]\n",
    "        \n",
    "\n",
    "        \n",
    "def extract_features_labels():\n",
    "    if os.path.isdir(images_dir):\n",
    "        all_features = []\n",
    "        all_labels = []\n",
    "        for img_path in image_paths:\n",
    "            file_name = img_path.split('\\\\')[-1]\n",
    "\n",
    "            # load image\n",
    "            img = imread(img_path, as_gray = True)\n",
    "            features = np.reshape(img, (512,512,1))\n",
    "            features.shape, features\n",
    "            \n",
    "            if features is not None:\n",
    "                all_features.append(features)\n",
    "                all_labels.append(tumor_labels[file_name])\n",
    "\n",
    "    np_features = np.array(all_features)\n",
    "    np_labels = np.array(all_labels) \n",
    "    return np_features, np_labels\n",
    "\n"
   ]
  },
  {
   "cell_type": "code",
   "execution_count": null,
   "id": "f3f90dbe",
   "metadata": {},
   "outputs": [],
   "source": []
  },
  {
   "cell_type": "code",
   "execution_count": 48,
   "id": "ce0b8448",
   "metadata": {},
   "outputs": [],
   "source": [
    "X, y = extract_features_labels()\n",
    "#X = X / 255 \n",
    "x_train, x_test, y_train, y_test = train_test_split(X, y, train_size=0.80, random_state=42)\n",
    "\n",
    "# Convert targets into one-hot encoded format\n",
    "y_train = tf.keras.utils.to_categorical(y_train, num_classes=4)\n",
    "y_test = tf.keras.utils.to_categorical(y_test, num_classes=4)\n",
    "\n",
    "#y_test = to_categorical(y_test)\n",
    "\n",
    "#print(y_train)\n",
    "#print(y_train[3].shape)"
   ]
  },
  {
   "cell_type": "code",
   "execution_count": 27,
   "id": "f0200a8d",
   "metadata": {},
   "outputs": [],
   "source": [
    "# Augmenting the dataset\n",
    "datagen = ImageDataGenerator(\n",
    "    rotation_range = 45,\n",
    "    width_shift_range=0.2,\n",
    "    zoom_range = 0.2,\n",
    "    horizontal_flip = True)\n",
    "datagen.fit(x_train)"
   ]
  },
  {
   "cell_type": "code",
   "execution_count": 5,
   "id": "8ae68939",
   "metadata": {},
   "outputs": [
    {
     "data": {
      "text/plain": [
       "array([[0, 0, 0, 1],\n",
       "       [1, 0, 0, 0],\n",
       "       [0, 0, 0, 1],\n",
       "       ...,\n",
       "       [0, 0, 1, 0],\n",
       "       [0, 0, 1, 0],\n",
       "       [0, 1, 0, 0]])"
      ]
     },
     "execution_count": 5,
     "metadata": {},
     "output_type": "execute_result"
    }
   ],
   "source": [
    "y"
   ]
  },
  {
   "cell_type": "code",
   "execution_count": 61,
   "id": "9965a5eb",
   "metadata": {},
   "outputs": [],
   "source": [
    "CNN_model = Sequential()\n",
    "CNN_model.add(Conv2D(32, (3, 3), activation='relu', input_shape=(512, 512, 1)))\n",
    "CNN_model.add(MaxPooling2D((2, 2)))\n",
    "CNN_model.add(Dropout(0.2))\n",
    "              \n",
    "CNN_model.add(Conv2D(32, (3, 3), activation='relu'))\n",
    "CNN_model.add(MaxPooling2D((2, 2)))\n",
    "CNN_model.add(Dropout(0.2))\n",
    "\n",
    "CNN_model.add(Conv2D(64, (3, 3), activation='relu'))\n",
    "CNN_model.add(MaxPooling2D((2, 2)))\n",
    "CNN_model.add(Dropout(0.2))\n",
    "\n",
    "CNN_model.add(Conv2D(128, (3, 3), activation='relu'))\n",
    "CNN_model.add(MaxPooling2D((2, 2)))\n",
    "CNN_model.add(Dropout(0.2))\n",
    "              \n",
    "CNN_model.add(Flatten())\n",
    "CNN_model.add(Dense(32, activation='relu'))\n",
    "#CNN_model.add(Dropout(0.5))\n",
    "CNN_model.add(Dense(4, activation='softmax'))"
   ]
  },
  {
   "cell_type": "code",
   "execution_count": 8,
   "id": "97926153",
   "metadata": {},
   "outputs": [],
   "source": [
    "#sgd = optimizers.SGD(lr=0.01, decay=1e-6, momentum=0.9, nesterov=True)\n",
    "\n",
    "opt = keras.optimizers.Adam(learning_rate=0.0001)\n",
    "\n",
    "# model.compile( loss = \"categorical_crossentropy\", \n",
    "#                optimizer = sgd, \n",
    "#                metrics=['accuracy']\n",
    "#              )"
   ]
  },
  {
   "cell_type": "code",
   "execution_count": 62,
   "id": "e85fd322",
   "metadata": {
    "scrolled": true
   },
   "outputs": [
    {
     "name": "stdout",
     "output_type": "stream",
     "text": [
      "Model: \"sequential_17\"\n",
      "_________________________________________________________________\n",
      "Layer (type)                 Output Shape              Param #   \n",
      "=================================================================\n",
      "conv2d_61 (Conv2D)           (None, 510, 510, 32)      320       \n",
      "_________________________________________________________________\n",
      "max_pooling2d_61 (MaxPooling (None, 255, 255, 32)      0         \n",
      "_________________________________________________________________\n",
      "dropout_54 (Dropout)         (None, 255, 255, 32)      0         \n",
      "_________________________________________________________________\n",
      "conv2d_62 (Conv2D)           (None, 253, 253, 32)      9248      \n",
      "_________________________________________________________________\n",
      "max_pooling2d_62 (MaxPooling (None, 126, 126, 32)      0         \n",
      "_________________________________________________________________\n",
      "dropout_55 (Dropout)         (None, 126, 126, 32)      0         \n",
      "_________________________________________________________________\n",
      "conv2d_63 (Conv2D)           (None, 124, 124, 64)      18496     \n",
      "_________________________________________________________________\n",
      "max_pooling2d_63 (MaxPooling (None, 62, 62, 64)        0         \n",
      "_________________________________________________________________\n",
      "dropout_56 (Dropout)         (None, 62, 62, 64)        0         \n",
      "_________________________________________________________________\n",
      "conv2d_64 (Conv2D)           (None, 60, 60, 128)       73856     \n",
      "_________________________________________________________________\n",
      "max_pooling2d_64 (MaxPooling (None, 30, 30, 128)       0         \n",
      "_________________________________________________________________\n",
      "dropout_57 (Dropout)         (None, 30, 30, 128)       0         \n",
      "_________________________________________________________________\n",
      "flatten_17 (Flatten)         (None, 115200)            0         \n",
      "_________________________________________________________________\n",
      "dense_33 (Dense)             (None, 32)                3686432   \n",
      "_________________________________________________________________\n",
      "dense_34 (Dense)             (None, 4)                 132       \n",
      "=================================================================\n",
      "Total params: 3,788,484\n",
      "Trainable params: 3,788,484\n",
      "Non-trainable params: 0\n",
      "_________________________________________________________________\n",
      "None\n"
     ]
    }
   ],
   "source": [
    "CNN_model.compile(loss=keras.losses.categorical_crossentropy, metrics=['accuracy'], optimizer='adam')\n",
    "print(CNN_model.summary())"
   ]
  },
  {
   "cell_type": "code",
   "execution_count": null,
   "id": "96698be8",
   "metadata": {},
   "outputs": [],
   "source": []
  },
  {
   "cell_type": "code",
   "execution_count": 64,
   "id": "d9144cc6",
   "metadata": {
    "scrolled": true
   },
   "outputs": [
    {
     "name": "stdout",
     "output_type": "stream",
     "text": [
      "Train on 2400 samples, validate on 600 samples\n",
      "Epoch 1/30\n",
      "2400/2400 [==============================] - 18s 7ms/step - loss: 0.0597 - accuracy: 0.9762 - val_loss: 0.9151 - val_accuracy: 0.8533\n",
      "Epoch 2/30\n",
      "2400/2400 [==============================] - 17s 7ms/step - loss: 0.0972 - accuracy: 0.9696 - val_loss: 0.6052 - val_accuracy: 0.8800\n",
      "Epoch 3/30\n",
      "2400/2400 [==============================] - 17s 7ms/step - loss: 0.0361 - accuracy: 0.9879 - val_loss: 0.7263 - val_accuracy: 0.8883\n",
      "Epoch 4/30\n",
      "2400/2400 [==============================] - 17s 7ms/step - loss: 0.0288 - accuracy: 0.9908 - val_loss: 0.8098 - val_accuracy: 0.8833\n",
      "Epoch 5/30\n",
      "2400/2400 [==============================] - 17s 7ms/step - loss: 0.0674 - accuracy: 0.9796 - val_loss: 0.7281 - val_accuracy: 0.8633\n",
      "Epoch 6/30\n",
      "2400/2400 [==============================] - 17s 7ms/step - loss: 0.0434 - accuracy: 0.9846 - val_loss: 0.9505 - val_accuracy: 0.8650\n",
      "Epoch 7/30\n",
      "2400/2400 [==============================] - 17s 7ms/step - loss: 0.0239 - accuracy: 0.9904 - val_loss: 0.9851 - val_accuracy: 0.8783\n",
      "Epoch 8/30\n",
      "2400/2400 [==============================] - 17s 7ms/step - loss: 0.0215 - accuracy: 0.9912 - val_loss: 0.9746 - val_accuracy: 0.8733\n",
      "Epoch 9/30\n",
      "2400/2400 [==============================] - 18s 7ms/step - loss: 0.0731 - accuracy: 0.9767 - val_loss: 0.7493 - val_accuracy: 0.8600\n",
      "Epoch 10/30\n",
      "2400/2400 [==============================] - 17s 7ms/step - loss: 0.0433 - accuracy: 0.9867 - val_loss: 0.9751 - val_accuracy: 0.8717\n",
      "Epoch 11/30\n",
      "2400/2400 [==============================] - 18s 8ms/step - loss: 0.0159 - accuracy: 0.9954 - val_loss: 0.9626 - val_accuracy: 0.8933\n",
      "Epoch 12/30\n",
      "2400/2400 [==============================] - 17s 7ms/step - loss: 0.0266 - accuracy: 0.9917 - val_loss: 0.9535 - val_accuracy: 0.8700\n",
      "Epoch 13/30\n",
      "2400/2400 [==============================] - 17s 7ms/step - loss: 0.0227 - accuracy: 0.9942 - val_loss: 0.9251 - val_accuracy: 0.8717\n",
      "Epoch 14/30\n",
      "2400/2400 [==============================] - 17s 7ms/step - loss: 0.0174 - accuracy: 0.9950 - val_loss: 0.9512 - val_accuracy: 0.8950\n",
      "Epoch 15/30\n",
      "2400/2400 [==============================] - 17s 7ms/step - loss: 0.0078 - accuracy: 0.9975 - val_loss: 0.8614 - val_accuracy: 0.8900\n",
      "Epoch 16/30\n",
      "2400/2400 [==============================] - 17s 7ms/step - loss: 0.0065 - accuracy: 0.9983 - val_loss: 0.9218 - val_accuracy: 0.8933\n",
      "Epoch 17/30\n",
      "2400/2400 [==============================] - 18s 7ms/step - loss: 0.0048 - accuracy: 0.9987 - val_loss: 0.9805 - val_accuracy: 0.8917\n",
      "Epoch 18/30\n",
      "2400/2400 [==============================] - 17s 7ms/step - loss: 0.0077 - accuracy: 0.9983 - val_loss: 0.9529 - val_accuracy: 0.8917\n",
      "Epoch 19/30\n",
      "2400/2400 [==============================] - 17s 7ms/step - loss: 0.0068 - accuracy: 0.9987 - val_loss: 0.9856 - val_accuracy: 0.8850\n",
      "Epoch 20/30\n",
      "2400/2400 [==============================] - 17s 7ms/step - loss: 0.0055 - accuracy: 0.9987 - val_loss: 1.0488 - val_accuracy: 0.8883\n",
      "Epoch 21/30\n",
      "2400/2400 [==============================] - 17s 7ms/step - loss: 0.0048 - accuracy: 0.9987 - val_loss: 0.9893 - val_accuracy: 0.8883\n",
      "Epoch 22/30\n",
      "2400/2400 [==============================] - 16s 7ms/step - loss: 0.0055 - accuracy: 0.9983 - val_loss: 1.3765 - val_accuracy: 0.8583\n",
      "Epoch 23/30\n",
      "2400/2400 [==============================] - 16s 7ms/step - loss: 0.0401 - accuracy: 0.9879 - val_loss: 0.7986 - val_accuracy: 0.8717\n",
      "Epoch 24/30\n",
      "2400/2400 [==============================] - 16s 7ms/step - loss: 0.0890 - accuracy: 0.9783 - val_loss: 0.5201 - val_accuracy: 0.8800\n",
      "Epoch 25/30\n",
      "2400/2400 [==============================] - 17s 7ms/step - loss: 0.0216 - accuracy: 0.9946 - val_loss: 0.6745 - val_accuracy: 0.8917\n",
      "Epoch 26/30\n",
      "2400/2400 [==============================] - 17s 7ms/step - loss: 0.0351 - accuracy: 0.9908 - val_loss: 0.7378 - val_accuracy: 0.8850\n",
      "Epoch 27/30\n",
      "2400/2400 [==============================] - 16s 7ms/step - loss: 0.0198 - accuracy: 0.9925 - val_loss: 0.8170 - val_accuracy: 0.8783\n",
      "Epoch 28/30\n",
      "2400/2400 [==============================] - 16s 7ms/step - loss: 0.0094 - accuracy: 0.9971 - val_loss: 0.7840 - val_accuracy: 0.8917\n",
      "Epoch 29/30\n",
      "2400/2400 [==============================] - 16s 7ms/step - loss: 0.0066 - accuracy: 0.9979 - val_loss: 0.8663 - val_accuracy: 0.8950\n",
      "Epoch 30/30\n",
      "2400/2400 [==============================] - 16s 7ms/step - loss: 0.0198 - accuracy: 0.9946 - val_loss: 1.0339 - val_accuracy: 0.8717\n"
     ]
    },
    {
     "data": {
      "text/plain": [
       "<keras.callbacks.callbacks.History at 0x18532207548>"
      ]
     },
     "execution_count": 64,
     "metadata": {},
     "output_type": "execute_result"
    }
   ],
   "source": [
    "# training the model for 10 epochs\n",
    "CNN_model.fit(x_train, y_train, batch_size=32, epochs=30, validation_data=(x_test, y_test))"
   ]
  },
  {
   "cell_type": "code",
   "execution_count": null,
   "id": "014e2409",
   "metadata": {},
   "outputs": [],
   "source": []
  },
  {
   "cell_type": "code",
   "execution_count": null,
   "id": "5bcdf298",
   "metadata": {},
   "outputs": [],
   "source": []
  }
 ],
 "metadata": {
  "kernelspec": {
   "display_name": "Python 3",
   "language": "python",
   "name": "python3"
  },
  "language_info": {
   "codemirror_mode": {
    "name": "ipython",
    "version": 3
   },
   "file_extension": ".py",
   "mimetype": "text/x-python",
   "name": "python",
   "nbconvert_exporter": "python",
   "pygments_lexer": "ipython3",
   "version": "3.7.9"
  }
 },
 "nbformat": 4,
 "nbformat_minor": 5
}
